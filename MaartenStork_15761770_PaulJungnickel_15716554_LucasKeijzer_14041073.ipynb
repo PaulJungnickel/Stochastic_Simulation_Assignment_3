{
 "cells": [
  {
   "cell_type": "markdown",
   "metadata": {},
   "source": [
    "# Stochastic Simulation Assignment 3\n",
    "\n",
    "\n",
    "### **Contributors**  \n",
    "- **Maarten Stork**  \n",
    "- **Paul Jungnickel**  \n",
    "- **Lucas Keijzer**\n",
    "\n",
    "### **Overview**  \n",
    "This notebook contains the code and analysis for **Assignment 3 of Stochastic Simulation**. The code follows the order specified in the assignment guidelines and replicates the experiments conducted in the referenced paper. Each section corresponds to (a) key experiment(s)."
   ]
  },
  {
   "cell_type": "code",
   "execution_count": 7,
   "metadata": {},
   "outputs": [],
   "source": [
    "from CircleParticleSim import *\n",
    "import numpy as np\n",
    "import numpy.random as rand"
   ]
  },
  {
   "cell_type": "markdown",
   "metadata": {},
   "source": [
    "# 1)"
   ]
  },
  {
   "cell_type": "code",
   "execution_count": null,
   "metadata": {},
   "outputs": [],
   "source": []
  },
  {
   "cell_type": "markdown",
   "metadata": {},
   "source": [
    "# 2)"
   ]
  },
  {
   "cell_type": "code",
   "execution_count": 15,
   "metadata": {},
   "outputs": [],
   "source": [
    "# Parameters used\n",
    "num_particles = 12\n",
    "steps = 10000\n",
    "num_runs = 50\n",
    "\n",
    "schedules = [\n",
    "# log_cooling_schedule,\n",
    "# basic_cooling_schedule,\n",
    "paper_cooling_schedule,\n",
    "exponential_cooling_schedule,\n",
    "# linear_cooling_schedule,\n",
    "# quadratic_cooling_schedule,\n",
    "sigmoid_cooling_schedule,\n",
    "inverse_sqrt_cooling_schedule,\n",
    "cosine_annealing_cooling_schedule,\n",
    "# stepwise_cooling_schedule,\n",
    "]"
   ]
  },
  {
   "cell_type": "code",
   "execution_count": null,
   "metadata": {},
   "outputs": [],
   "source": [
    "data = {}\n",
    "\n",
    "# generate data\n",
    "for schedule in schedules:\n",
    "    print(f\"Currently running for: {schedule.__name__}\")\n",
    "    mean_energy, std_energy, mean_temperatures = evaluate_multiple_runs(\n",
    "        num_particles, cooling_schedule=schedule, steps=steps, num_runs=num_runs\n",
    "    )\n",
    "    data[schedule.__name__] = {\n",
    "        \"mean_energy\": mean_energy,\n",
    "        \"std_energy\": std_energy,\n",
    "        \"mean_temperatures\": mean_temperatures\n",
    "    }\n",
    "\n",
    "# Save data\n",
    "np.save('data/data-2-{}-{}.npy'.format(num_particles, len(schedules)), data)\n"
   ]
  },
  {
   "cell_type": "code",
   "execution_count": null,
   "metadata": {},
   "outputs": [],
   "source": [
    "loaded_data = np.load('data/data-2-{}-{}.npy'.format(num_particles, len(schedules)), allow_pickle=True).item()\n",
    "\n",
    "fig, axs = plt.subplots(2, 1, figsize=(10, 12), sharex=True)\n",
    "\n",
    "for schedule_name, results in loaded_data.items():\n",
    "    mean_energy = results[\"mean_energy\"]\n",
    "    std_energy = results[\"std_energy\"]\n",
    "    mean_temperatures = results[\"mean_temperatures\"]\n",
    "    print(f\"min energy: {min(mean_energy)} for schedule: {schedule_name}\")\n",
    "    axs[0].plot(mean_energy, label=schedule_name)\n",
    "    axs[0].fill_between(\n",
    "        range(len(mean_energy)),\n",
    "        mean_energy - std_energy,\n",
    "        mean_energy + std_energy,\n",
    "        alpha=0.3\n",
    "    )\n",
    "    axs[1].plot(mean_temperatures, label=schedule_name)\n",
    "\n",
    "# Plot for energy\n",
    "axs[0].set_ylabel(\"Energy\")\n",
    "axs[0].set_title(\"Mean Energy with Standard Deviation Over Time (Loaded Data)\")\n",
    "axs[0].set_xscale('log')\n",
    "axs[0].set_yscale('log')\n",
    "axs[0].legend()\n",
    "axs[0].grid(True)\n",
    "\n",
    "# Plot for temperature\n",
    "axs[1].set_xlabel(\"Steps\")\n",
    "axs[1].set_ylabel(\"Temperature\")\n",
    "axs[1].set_title(\"Temperature Evolution Over Time (Loaded Data)\")\n",
    "axs[1].set_xscale('log')\n",
    "# axs[1].legend()\n",
    "axs[1].grid(True)\n",
    "\n",
    "skip_first_steps = 0\n",
    "plt.xlim(left=skip_first_steps)\n",
    "plt.tight_layout()\n",
    "plt.show()"
   ]
  },
  {
   "cell_type": "markdown",
   "metadata": {},
   "source": [
    "# 3)"
   ]
  },
  {
   "cell_type": "code",
   "execution_count": null,
   "metadata": {},
   "outputs": [],
   "source": [
    "rand.seed(42)\n",
    "run_count = 100\n",
    "num_scales = 50\n",
    "num_particles = 50\n",
    "scales = np.logspace(-2,1,num=num_scales, base=10)\n",
    "print(scales)\n",
    "arrs = np.zeros([num_scales, run_count]) \n",
    "\n",
    "for i, scale in enumerate(scales):\n",
    "    num_steps = int(100000 * scale)\n",
    "    for j in range(run_count):\n",
    "        sim  = CircleParticleSim(num_particles, steps=num_steps, seed=rand.randint(0,2**31-1),\n",
    "                    cooling_schedule = paper_cooling_schedule,\n",
    "                    step_size_schedule = sqrt_step_size_schedule,\n",
    "                    random_step_likelihood=0.2,\n",
    "                    extra_args = {'cooling_schedule_scaling' : scale} \n",
    "                    )\n",
    "        sim.run_simulation(num_steps)\n",
    "        arrs[i,j] = sim.E\n",
    "\n",
    "    print('.', end='')\n",
    "\n",
    "    \n",
    "np.save('data/data-3-{}-{}.npy'.format(num_particles, num_scales), arrs)"
   ]
  },
  {
   "cell_type": "code",
   "execution_count": null,
   "metadata": {},
   "outputs": [],
   "source": [
    "\n",
    "arrs = np.load('data/data-3-50-50.npy')\n",
    "arrs = arrs[:]\n",
    "scales = np.logspace(-2,1,num=num_scales, base=10)\n",
    "scales1 = 100*scales[:]\n",
    "print(arrs.shape)\n",
    "mean = np.mean(arrs, axis=1)\n",
    "min_energy = np.min(arrs)\n",
    "plt.plot(scales1, mean, label='mean energy + IQR')\n",
    "# plt.plot(probs, np.percentile(arrs, 5, axis=1))\n",
    "plt.fill_between(scales1, np.percentile(arrs, 0, axis=1), np.percentile(arrs, 99, axis=1), alpha=0.3)\n",
    "plt.plot(scales1, min_energy*np.ones_like(scales1), linestyle = ':', color='gray', label='lowest measured energy')\n",
    "plt.xlabel('chain length scaling')\n",
    "plt.ylabel('E')\n",
    "plt.xscale('log')\n",
    "plt.ylim([2900, 2950])\n",
    "plt.legend()"
   ]
  },
  {
   "cell_type": "markdown",
   "metadata": {},
   "source": [
    "# 4)"
   ]
  },
  {
   "cell_type": "code",
   "execution_count": null,
   "metadata": {},
   "outputs": [],
   "source": [
    "rand.seed(42)\n",
    "run_count = 100\n",
    "num_probs = 50\n",
    "num_particles = 16\n",
    "probs = np.linspace(0,1,num_probs)\n",
    "arrs = np.zeros([num_probs, run_count]) \n",
    "\n",
    "for i, p in enumerate(probs):\n",
    "    for j in range(run_count):\n",
    "        sim  = CircleParticleSim(num_particles, steps=100000, seed=rand.randint(0,2**31-1),\n",
    "                    cooling_schedule = paper_cooling_schedule,\n",
    "                    step_size_schedule = sqrt_step_size_schedule,\n",
    "                    random_step_likelihood=p\n",
    "                    )\n",
    "        sim.run_simulation(10000)\n",
    "        arrs[i,j] = sim.E\n",
    "\n",
    "    print('.', end='')\n",
    "\n",
    "    \n",
    "np.save('data/data-4-{}-{}.npy'.format(num_particles, num_probs), arrs)\n",
    "\n",
    "\n",
    "\n"
   ]
  },
  {
   "cell_type": "code",
   "execution_count": null,
   "metadata": {},
   "outputs": [],
   "source": [
    "\n",
    "arrs = np.load('data/data-4-50-50.npy')\n",
    "arrs = arrs[2:]\n",
    "num_probs = 20\n",
    "probs = np.linspace(0,1,num_probs)\n",
    "probs1 = probs[2:]\n",
    "print(arrs.shape)\n",
    "mean = np.mean(arrs, axis=1)\n",
    "min_energy = np.min(arrs)\n",
    "plt.plot(probs1, mean, label='mean energy + IQR')\n",
    "# plt.plot(probs, np.percentile(arrs, 5, axis=1))\n",
    "plt.fill_between(probs1, np.percentile(arrs, 0, axis=1), np.percentile(arrs, 99, axis=1), alpha=0.3)\n",
    "plt.plot(probs1, min_energy*np.ones_like(probs1), linestyle = ':', color='gray', label='lowest measured energy')\n",
    "plt.xlabel('P(random step)')\n",
    "plt.ylabel('E')\n",
    "plt.legend()"
   ]
  }
 ],
 "metadata": {
  "kernelspec": {
   "display_name": "base",
   "language": "python",
   "name": "python3"
  },
  "language_info": {
   "codemirror_mode": {
    "name": "ipython",
    "version": 3
   },
   "file_extension": ".py",
   "mimetype": "text/x-python",
   "name": "python",
   "nbconvert_exporter": "python",
   "pygments_lexer": "ipython3",
   "version": "3.9.7"
  }
 },
 "nbformat": 4,
 "nbformat_minor": 2
}
