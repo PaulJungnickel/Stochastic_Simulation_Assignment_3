{
 "cells": [
  {
   "cell_type": "markdown",
   "metadata": {},
   "source": [
    "# Stochastic Simulation Assignment 3\n",
    "\n",
    "\n",
    "### **Contributors**  \n",
    "- **Maarten Stork**  \n",
    "- **Paul Jungnickel**  \n",
    "- **Lucas Keijzer**\n",
    "\n",
    "### **Overview**  \n",
    "This notebook contains the code and analysis for **Assignment 3 of Stochastic Simulation**. The code follows the order specified in the assignment guidelines and replicates the experiments conducted in the referenced paper. Each section corresponds to (a) key experiment(s)."
   ]
  },
  {
   "cell_type": "code",
   "execution_count": null,
   "metadata": {},
   "outputs": [],
   "source": [
    "from CircleParticleSim import *\n",
    "import numpy as np\n",
    "import numpy.random as rand"
   ]
  },
  {
   "cell_type": "markdown",
   "metadata": {},
   "source": [
    "# 1)"
   ]
  },
  {
   "cell_type": "code",
   "execution_count": null,
   "metadata": {},
   "outputs": [],
   "source": []
  },
  {
   "cell_type": "markdown",
   "metadata": {},
   "source": [
    "# 2)"
   ]
  },
  {
   "cell_type": "markdown",
   "metadata": {},
   "source": [
    "# 3)"
   ]
  },
  {
   "cell_type": "code",
   "execution_count": null,
   "metadata": {},
   "outputs": [],
   "source": [
    "rand.seed(42)\n",
    "run_count = 100\n",
    "num_scales = 50\n",
    "num_particles = 50\n",
    "scales = np.logspace(-2,1,num=num_scales, base=10)\n",
    "print(scales)\n",
    "arrs = np.zeros([num_scales, run_count]) \n",
    "\n",
    "for i, scale in enumerate(scales):\n",
    "    num_steps = int(100000 * scale)\n",
    "    for j in range(run_count):\n",
    "        sim  = CircleParticleSim(num_particles, steps=num_steps, seed=rand.randint(0,2**31-1),\n",
    "                    cooling_schedule = paper_cooling_schedule,\n",
    "                    step_size_schedule = sqrt_step_size_schedule,\n",
    "                    random_step_likelihood=0.2,\n",
    "                    extra_args = {'cooling_schedule_scaling' : scale} \n",
    "                    )\n",
    "        sim.run_simulation(num_steps)\n",
    "        arrs[i,j] = sim.E\n",
    "\n",
    "    print('.', end='')\n",
    "\n",
    "    \n",
    "np.save('data/data-3-{}-{}.npy'.format(num_particles, num_scales), arrs)"
   ]
  },
  {
   "cell_type": "code",
   "execution_count": null,
   "metadata": {},
   "outputs": [],
   "source": [
    "\n",
    "arrs = np.load('data/data-3-50-50.npy')\n",
    "arrs = arrs[:]\n",
    "scales = np.logspace(-2,1,num=num_scales, base=10)\n",
    "scales1 = 100*scales[:]\n",
    "print(arrs.shape)\n",
    "mean = np.mean(arrs, axis=1)\n",
    "min_energy = np.min(arrs)\n",
    "plt.plot(scales1, mean, label='mean energy + IQR')\n",
    "# plt.plot(probs, np.percentile(arrs, 5, axis=1))\n",
    "plt.fill_between(scales1, np.percentile(arrs, 0, axis=1), np.percentile(arrs, 99, axis=1), alpha=0.3)\n",
    "plt.plot(scales1, min_energy*np.ones_like(scales1), linestyle = ':', color='gray', label='lowest measured energy')\n",
    "plt.xlabel('chain length scaling')\n",
    "plt.ylabel('E')\n",
    "plt.xscale('log')\n",
    "plt.ylim([2900, 2950])\n",
    "plt.legend()"
   ]
  },
  {
   "cell_type": "markdown",
   "metadata": {},
   "source": [
    "# 4)"
   ]
  },
  {
   "cell_type": "code",
   "execution_count": null,
   "metadata": {},
   "outputs": [],
   "source": [
    "rand.seed(42)\n",
    "run_count = 100\n",
    "num_probs = 50\n",
    "num_particles = 16\n",
    "probs = np.linspace(0,1,num_probs)\n",
    "arrs = np.zeros([num_probs, run_count]) \n",
    "\n",
    "for i, p in enumerate(probs):\n",
    "    for j in range(run_count):\n",
    "        sim  = CircleParticleSim(num_particles, steps=100000, seed=rand.randint(0,2**31-1),\n",
    "                    cooling_schedule = paper_cooling_schedule,\n",
    "                    step_size_schedule = sqrt_step_size_schedule,\n",
    "                    random_step_likelihood=p\n",
    "                    )\n",
    "        sim.run_simulation(10000)\n",
    "        arrs[i,j] = sim.E\n",
    "\n",
    "    print('.', end='')\n",
    "\n",
    "    \n",
    "np.save('data/data-4-{}-{}.npy'.format(num_particles, num_probs), arrs)\n",
    "\n",
    "\n",
    "\n"
   ]
  },
  {
   "cell_type": "code",
   "execution_count": null,
   "metadata": {},
   "outputs": [],
   "source": [
    "\n",
    "arrs = np.load('data/data-4-50-50.npy')\n",
    "arrs = arrs[2:]\n",
    "num_probs = 20\n",
    "probs = np.linspace(0,1,num_probs)\n",
    "probs1 = probs[2:]\n",
    "print(arrs.shape)\n",
    "mean = np.mean(arrs, axis=1)\n",
    "min_energy = np.min(arrs)\n",
    "plt.plot(probs1, mean, label='mean energy + IQR')\n",
    "# plt.plot(probs, np.percentile(arrs, 5, axis=1))\n",
    "plt.fill_between(probs1, np.percentile(arrs, 0, axis=1), np.percentile(arrs, 99, axis=1), alpha=0.3)\n",
    "plt.plot(probs1, min_energy*np.ones_like(probs1), linestyle = ':', color='gray', label='lowest measured energy')\n",
    "plt.xlabel('P(random step)')\n",
    "plt.ylabel('E')\n",
    "plt.legend()"
   ]
  }
 ],
 "metadata": {
  "kernelspec": {
   "display_name": "Python 3 (ipykernel)",
   "language": "python",
   "name": "python3"
  },
  "language_info": {
   "codemirror_mode": {
    "name": "ipython",
    "version": 3
   },
   "file_extension": ".py",
   "mimetype": "text/x-python",
   "name": "python",
   "nbconvert_exporter": "python",
   "pygments_lexer": "ipython3",
   "version": "3.10.7"
  }
 },
 "nbformat": 4,
 "nbformat_minor": 2
}
