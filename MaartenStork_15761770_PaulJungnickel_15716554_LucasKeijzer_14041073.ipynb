{
 "cells": [
  {
   "cell_type": "markdown",
   "metadata": {},
   "source": [
    "# Stochastic Simulation Assignment 3\n",
    "\n",
    "\n",
    "### **Contributors**  \n",
    "- **Maarten Stork**  \n",
    "- **Paul Jungnickel**  \n",
    "- **Lucas Keijzer**\n",
    "\n",
    "### **Overview**  \n",
    "This notebook contains the code and analysis for **Assignment 3 of Stochastic Simulation**. The code follows the order specified in the assignment guidelines and replicates the experiments conducted in the referenced paper. Each section corresponds to (a) key experiment(s)."
   ]
  },
  {
   "cell_type": "code",
   "execution_count": null,
   "metadata": {},
   "outputs": [],
   "source": [
    "from CircleParticleSim import *\n",
    "import numpy as np\n",
    "import numpy.random as rand"
   ]
  },
  {
   "cell_type": "markdown",
   "metadata": {},
   "source": [
    "# 1)"
   ]
  },
  {
   "cell_type": "code",
   "execution_count": null,
   "metadata": {},
   "outputs": [],
   "source": []
  },
  {
   "cell_type": "markdown",
   "metadata": {},
   "source": [
    "# 2)"
   ]
  },
  {
   "cell_type": "markdown",
   "metadata": {},
   "source": [
    "# 3)"
   ]
  },
  {
   "cell_type": "code",
   "execution_count": null,
   "metadata": {},
   "outputs": [],
   "source": [
    "rand.seed(42)\n",
    "run_count = 50\n",
    "num_particles = 50\n",
    "num_scales = 20\n",
    "chain_lens = np.int64(np.round(np.logspace(0,3,num=num_scales, base=10)))\n",
    "max_cooling_steps = 10000\n",
    "print(chain_lens)\n",
    "\n",
    "def run_scales(num_particles):\n",
    "    arrs = np.zeros([num_scales, run_count]) \n",
    "\n",
    "    for i, chain_len in enumerate(chain_lens):\n",
    "        num_steps = chain_len * max_cooling_steps\n",
    "        # cooling_steps =  int(num_steps/chain_len)\n",
    "        for j in range(run_count):\n",
    "            sim  = CircleParticleSim(num_particles, steps=num_steps, seed=rand.randint(0,2**31-1),\n",
    "                        cooling_schedule = paper_cooling_schedule,\n",
    "                        step_size_schedule = sqrt_step_size_schedule,\n",
    "                        random_step_likelihood=0.2,\n",
    "                        extra_args = {'markov_chain_len' : chain_len} \n",
    "                        )\n",
    "            sim.run_simulation(max_cooling_steps, chain_len)\n",
    "            arrs[i,j] = sim.E\n",
    "\n",
    "        print(sim.T)\n",
    "\n",
    "        \n",
    "    np.save('data/data-3.1-{}-{}.npy'.format(num_particles, num_scales), arrs)\n",
    "\n",
    "# for num_particles in [16,22,50,1000]:\n",
    "#     run_scales(num_particles)\n",
    "\n",
    "arrs = np.load('data/data-3.1-50-20.npy')\n",
    "arrs = arrs[:]\n",
    "scales = np.logspace(-2,1,num=num_scales, base=10)\n",
    "scales1 = 100*scales[:]\n",
    "print(arrs.shape)\n",
    "min_energy = np.min(arrs)\n",
    "arrs -= min_energy\n",
    "mean = np.mean(arrs, axis=1)\n",
    "min_energy = 0\n",
    "plt.plot(scales1, mean, label='mean energy + IQR')\n",
    "# plt.plot(probs, np.percentile(arrs, 5, axis=1))\n",
    "perc = 5\n",
    "plt.fill_between(scales1, np.percentile(arrs, perc, axis=1), np.percentile(arrs, 100-perc, axis=1), alpha=0.3)\n",
    "plt.plot(scales1, min_energy*np.ones_like(scales1), linestyle = ':', color='gray', label='lowest measured energy')\n",
    "plt.xlabel('Markov Chain Length')\n",
    "plt.ylabel('E')\n",
    "plt.xscale('log')\n",
    "plt.yscale('log')\n",
    "# plt.ylim([1,1.001])\n",
    "plt.legend()"
   ]
  },
  {
   "cell_type": "markdown",
   "metadata": {},
   "source": [
    "# 4)"
   ]
  },
  {
   "cell_type": "code",
   "execution_count": null,
   "metadata": {},
   "outputs": [],
   "source": [
    "rand.seed(42)\n",
    "run_count = 100\n",
    "num_probs = 20\n",
    "num_particles = 22\n",
    "probs = np.linspace(0,1,num_probs)\n",
    "\n",
    "chain_len = 1000\n",
    "max_cooling_steps = 100\n",
    "num_steps = chain_len * max_cooling_steps\n",
    "\n",
    "def run_probs(num_particles):\n",
    "    arrs = np.zeros([num_probs, run_count]) \n",
    "\n",
    "    for i, p in enumerate(probs):\n",
    "        for j in range(run_count):\n",
    "            sim  = CircleParticleSim(num_particles, steps=num_steps, seed=rand.randint(0,2**31-1),\n",
    "                        cooling_schedule = paper_cooling_schedule,\n",
    "                        step_size_schedule = sqrt_step_size_schedule,\n",
    "                        random_step_likelihood=p\n",
    "                        )\n",
    "            sim.run_simulation(max_cooling_steps, chain_len)\n",
    "            arrs[i,j] = sim.E\n",
    "\n",
    "        print('.', end='')\n",
    "\n",
    "        \n",
    "    np.save('data/data-4.1-{}-{}.npy'.format(num_particles, num_probs), arrs)\n",
    "\n",
    "\n",
    "# for num_particles in [16,22,50,1000]:\n",
    "# for num_particles in [22]:\n",
    "#     run_probs(num_particles)\n",
    "\n",
    "\n",
    "arrs = np.load('data/data-4.1-50-20.npy')\n",
    "arrs = arrs[1:]/2\n",
    "num_probs = 20\n",
    "probs = np.linspace(0,1,num_probs)\n",
    "probs1 = probs[1:]\n",
    "print(arrs.shape)\n",
    "mean = np.mean(arrs, axis=1)\n",
    "min_energy = np.min(arrs)\n",
    "plt.plot(probs1, mean, label='mean energy + IQR')\n",
    "# plt.plot(probs, np.percentile(arrs, 5, axis=1))\n",
    "perc = 25\n",
    "# plt.fill_between(probs1, np.percentile(arrs, perc, axis=1), np.percentile(arrs, 100-perc, axis=1), alpha=0.3)\n",
    "merr = 1.96 / np.sqrt(run_count) *np.std(arrs, axis=1)\n",
    "plt.fill_between(probs1, mean - merr, mean + merr, alpha=0.3)\n",
    "plt.plot(probs1, min_energy*np.ones_like(probs1), linestyle = ':', color='gray', label='lowest measured energy')\n",
    "plt.xlabel('P(random step)')\n",
    "plt.ylabel('E')\n",
    "plt.legend()\n",
    "# plt.ylim([2915,2925])\n",
    "# plt.savefig('plots/4-50nodes.png', dpi=600)\n"
   ]
  }
 ],
 "metadata": {
  "kernelspec": {
   "display_name": "introcls",
   "language": "python",
   "name": "python3"
  },
  "language_info": {
   "codemirror_mode": {
    "name": "ipython",
    "version": 3
   },
   "file_extension": ".py",
   "mimetype": "text/x-python",
   "name": "python",
   "nbconvert_exporter": "python",
   "pygments_lexer": "ipython3",
   "version": "3.12.5"
  }
 },
 "nbformat": 4,
 "nbformat_minor": 2
}
