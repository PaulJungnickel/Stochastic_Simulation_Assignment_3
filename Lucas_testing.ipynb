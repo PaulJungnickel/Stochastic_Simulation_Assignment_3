{
 "cells": [
  {
   "cell_type": "code",
   "execution_count": 1,
   "metadata": {},
   "outputs": [],
   "source": [
    "from CircleParticleSim import *\n",
    "import numpy as np\n",
    "import numpy.random as rand"
   ]
  },
  {
   "cell_type": "code",
   "execution_count": null,
   "metadata": {},
   "outputs": [],
   "source": [
    "num_particles = 5\n",
    "steps = 10000\n",
    "num_runs = 3\n",
    "schedules = [\n",
    "# log_cooling_schedule,\n",
    "# basic_cooling_schedule,\n",
    "paper_cooling_schedule,\n",
    "exponential_cooling_schedule,\n",
    "# linear_cooling_schedule,\n",
    "quadratic_cooling_schedule,\n",
    "sigmoid_cooling_schedule,\n",
    "inverse_sqrt_cooling_schedule,\n",
    "cosine_annealing_cooling_schedule,\n",
    "# stepwise_cooling_schedule,\n",
    "]\n",
    "\n",
    "plt.figure(figsize=(10, 6))\n",
    "\n",
    "for schedule in schedules:\n",
    "    print(schedule)\n",
    "    mean_energy, std_energy = evaluate_multiple_runs(num_particles, cooling_schedule=schedule, steps=steps, num_runs=num_runs)\n",
    "    plt.plot(mean_energy, label=schedule)\n",
    "    # plt.fill_between(range(len(mean_energy)), mean_energy - std_energy, mean_energy + std_energy, alpha=0.3)\n",
    "plt.xlabel(\"Steps\")\n",
    "plt.ylabel(\"Energy\")\n",
    "plt.title(\"Minimal Energy with Standard Deviation Over Time\")\n",
    "plt.grid(True)\n",
    "plt.xscale('log')\n",
    "plt.yscale('log')\n",
    "plt.xlim(left=100)\n",
    "plt.legend()\n",
    "plt.show()\n",
    "# plot_shadow(mean_energy, std_energy)"
   ]
  },
  {
   "cell_type": "code",
   "execution_count": null,
   "metadata": {},
   "outputs": [],
   "source": []
  }
 ],
 "metadata": {
  "kernelspec": {
   "display_name": "base",
   "language": "python",
   "name": "python3"
  },
  "language_info": {
   "codemirror_mode": {
    "name": "ipython",
    "version": 3
   },
   "file_extension": ".py",
   "mimetype": "text/x-python",
   "name": "python",
   "nbconvert_exporter": "python",
   "pygments_lexer": "ipython3",
   "version": "3.9.7"
  }
 },
 "nbformat": 4,
 "nbformat_minor": 2
}
